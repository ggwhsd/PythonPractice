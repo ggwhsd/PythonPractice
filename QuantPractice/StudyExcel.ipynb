{
 "cells": [
  {
   "cell_type": "code",
   "execution_count": 35,
   "metadata": {
    "tags": []
   },
   "outputs": [
    {
     "output_type": "stream",
     "name": "stdout",
     "text": "hello jupyter!!!\n"
    }
   ],
   "source": [
    "import pandas as pd\n",
    "import numpy as np\n",
    "print('hello jupyter!!!')"
   ]
  },
  {
   "cell_type": "code",
   "execution_count": 3,
   "metadata": {},
   "outputs": [
    {
     "output_type": "execute_result",
     "data": {
      "text/plain": "   A  B\n0  4  9\n1  4  9\n2  4  9",
      "text/html": "<div>\n<style scoped>\n    .dataframe tbody tr th:only-of-type {\n        vertical-align: middle;\n    }\n\n    .dataframe tbody tr th {\n        vertical-align: top;\n    }\n\n    .dataframe thead th {\n        text-align: right;\n    }\n</style>\n<table border=\"1\" class=\"dataframe\">\n  <thead>\n    <tr style=\"text-align: right;\">\n      <th></th>\n      <th>A</th>\n      <th>B</th>\n    </tr>\n  </thead>\n  <tbody>\n    <tr>\n      <th>0</th>\n      <td>4</td>\n      <td>9</td>\n    </tr>\n    <tr>\n      <th>1</th>\n      <td>4</td>\n      <td>9</td>\n    </tr>\n    <tr>\n      <th>2</th>\n      <td>4</td>\n      <td>9</td>\n    </tr>\n  </tbody>\n</table>\n</div>"
     },
     "metadata": {},
     "execution_count": 3
    }
   ],
   "source": [
    "\n",
    "# 利用二维矩阵生成DataFrame\n",
    "df = pd.DataFrame([[4, 9]] * 3, columns=['A', 'B'])\n",
    "df.head()"
   ]
  },
  {
   "cell_type": "code",
   "execution_count": 56,
   "metadata": {},
   "outputs": [],
   "source": [
    "# 利用数组序列生成DataFrame\n",
    "df = pd.DataFrame({'A':[1,2,3,4,5],'B':[1,2,3,4,5]})\n",
    "df.head()\n",
    "df.to_excel('test1.xlsx',index=False)\n"
   ]
  },
  {
   "cell_type": "code",
   "execution_count": 50,
   "metadata": {},
   "outputs": [
    {
     "output_type": "execute_result",
     "data": {
      "text/plain": "A    15\nB    15\ndtype: int64"
     },
     "metadata": {},
     "execution_count": 50
    }
   ],
   "source": [
    "#对每列中的值都使用np.sum\n",
    "df.apply(np.sum,axis=0)\n"
   ]
  },
  {
   "cell_type": "code",
   "execution_count": 51,
   "metadata": {},
   "outputs": [
    {
     "output_type": "execute_result",
     "data": {
      "text/plain": "0     2\n1     4\n2     6\n3     8\n4    10\ndtype: int64"
     },
     "metadata": {},
     "execution_count": 51
    }
   ],
   "source": [
    "#对每一行进行np.sum\n",
    "df.apply(np.sum,axis=1)"
   ]
  },
  {
   "cell_type": "code",
   "execution_count": 52,
   "metadata": {},
   "outputs": [
    {
     "output_type": "execute_result",
     "data": {
      "text/plain": "   foo  bar\n0    1    2\n1    1    2\n2    1    2\n3    1    2\n4    1    2",
      "text/html": "<div>\n<style scoped>\n    .dataframe tbody tr th:only-of-type {\n        vertical-align: middle;\n    }\n\n    .dataframe tbody tr th {\n        vertical-align: top;\n    }\n\n    .dataframe thead th {\n        text-align: right;\n    }\n</style>\n<table border=\"1\" class=\"dataframe\">\n  <thead>\n    <tr style=\"text-align: right;\">\n      <th></th>\n      <th>foo</th>\n      <th>bar</th>\n    </tr>\n  </thead>\n  <tbody>\n    <tr>\n      <th>0</th>\n      <td>1</td>\n      <td>2</td>\n    </tr>\n    <tr>\n      <th>1</th>\n      <td>1</td>\n      <td>2</td>\n    </tr>\n    <tr>\n      <th>2</th>\n      <td>1</td>\n      <td>2</td>\n    </tr>\n    <tr>\n      <th>3</th>\n      <td>1</td>\n      <td>2</td>\n    </tr>\n    <tr>\n      <th>4</th>\n      <td>1</td>\n      <td>2</td>\n    </tr>\n  </tbody>\n</table>\n</div>"
     },
     "metadata": {},
     "execution_count": 52
    }
   ],
   "source": [
    "#对每一行执行lambda表达式，每行会直接返回Series，这个会替代原有的df，后面的expand此时写不写是相同功能。\n",
    "df.apply(lambda x: pd.Series([1, 2], index=['foo', 'bar']), axis=1，result_type='expand')"
   ]
  },
  {
   "cell_type": "code",
   "execution_count": 55,
   "metadata": {},
   "outputs": [
    {
     "output_type": "execute_result",
     "data": {
      "text/plain": "   A  B\n0  1  2\n1  1  2\n2  1  2\n3  1  2\n4  1  2",
      "text/html": "<div>\n<style scoped>\n    .dataframe tbody tr th:only-of-type {\n        vertical-align: middle;\n    }\n\n    .dataframe tbody tr th {\n        vertical-align: top;\n    }\n\n    .dataframe thead th {\n        text-align: right;\n    }\n</style>\n<table border=\"1\" class=\"dataframe\">\n  <thead>\n    <tr style=\"text-align: right;\">\n      <th></th>\n      <th>A</th>\n      <th>B</th>\n    </tr>\n  </thead>\n  <tbody>\n    <tr>\n      <th>0</th>\n      <td>1</td>\n      <td>2</td>\n    </tr>\n    <tr>\n      <th>1</th>\n      <td>1</td>\n      <td>2</td>\n    </tr>\n    <tr>\n      <th>2</th>\n      <td>1</td>\n      <td>2</td>\n    </tr>\n    <tr>\n      <th>3</th>\n      <td>1</td>\n      <td>2</td>\n    </tr>\n    <tr>\n      <th>4</th>\n      <td>1</td>\n      <td>2</td>\n    </tr>\n  </tbody>\n</table>\n</div>"
     },
     "metadata": {},
     "execution_count": 55
    }
   ],
   "source": [
    "#保持列名是原先的列名\n",
    "df.apply(lambda x: pd.Series([1, 2]), axis=1,result_type='broadcast')"
   ]
  },
  {
   "cell_type": "code",
   "execution_count": 72,
   "metadata": {
    "tags": []
   },
   "outputs": [
    {
     "output_type": "execute_result",
     "data": {
      "text/plain": "   A  B\n0  2  3\n1  3  4\n2  4  5\n3  5  6\n4  6  7",
      "text/html": "<div>\n<style scoped>\n    .dataframe tbody tr th:only-of-type {\n        vertical-align: middle;\n    }\n\n    .dataframe tbody tr th {\n        vertical-align: top;\n    }\n\n    .dataframe thead th {\n        text-align: right;\n    }\n</style>\n<table border=\"1\" class=\"dataframe\">\n  <thead>\n    <tr style=\"text-align: right;\">\n      <th></th>\n      <th>A</th>\n      <th>B</th>\n    </tr>\n  </thead>\n  <tbody>\n    <tr>\n      <th>0</th>\n      <td>2</td>\n      <td>3</td>\n    </tr>\n    <tr>\n      <th>1</th>\n      <td>3</td>\n      <td>4</td>\n    </tr>\n    <tr>\n      <th>2</th>\n      <td>4</td>\n      <td>5</td>\n    </tr>\n    <tr>\n      <th>3</th>\n      <td>5</td>\n      <td>6</td>\n    </tr>\n    <tr>\n      <th>4</th>\n      <td>6</td>\n      <td>7</td>\n    </tr>\n  </tbody>\n</table>\n</div>"
     },
     "metadata": {},
     "execution_count": 72
    }
   ],
   "source": [
    "#每行的记录中，都进行计算\n",
    "def row_change(x):\n",
    "    return x['A']+1,x['B']+2\n",
    "\n",
    "df1=df.apply(row_change,axis=1,result_type='broadcast')\n",
    "df1\n"
   ]
  },
  {
   "cell_type": "code",
   "execution_count": 38,
   "metadata": {
    "tags": []
   },
   "outputs": [
    {
     "output_type": "stream",
     "name": "stdout",
     "text": "A  B\n0  1  1\n1  2  2\n2  3  3\n3  4  4\n4  5  5\nIndex(['A', 'B'], dtype='object')\nRangeIndex(start=0, stop=5, step=1)\n0    1\n1    2\n2    3\n3    4\n4    5\nName: A, dtype: int64\n              A         B\ncount  5.000000  5.000000\nmean   3.000000  3.000000\nstd    1.581139  1.581139\nmin    1.000000  1.000000\n25%    2.000000  2.000000\n50%    3.000000  3.000000\n75%    4.000000  4.000000\nmax    5.000000  5.000000\n"
    }
   ],
   "source": [
    "# 利用Excel生成DataFrame\n",
    "# python -m pip install xlrd\n",
    "# python -m pip install openpyxl \n",
    "df:pd.DataFrame = pd.read_excel('test1.xlsx',sheet_name='Sheet1')\n",
    "\n",
    "print(df.head())\n",
    "print(df.columns)\n",
    "print(df.index)\n",
    "print(df['A'])\n",
    "print(df.describe())"
   ]
  },
  {
   "cell_type": "code",
   "execution_count": 39,
   "metadata": {},
   "outputs": [],
   "source": [
    "df['A'][df['A']==1] = 'One'\n",
    "df.to_excel('test2.xlsx',sheet_name='sheetOne',index=True,header=True)"
   ]
  },
  {
   "cell_type": "code",
   "execution_count": 40,
   "metadata": {},
   "outputs": [],
   "source": [
    "df[['A','B']].to_excel('test2.xlsx',sheet_name='sheetOne',index=False,header=True)"
   ]
  },
  {
   "cell_type": "code",
   "execution_count": 43,
   "metadata": {},
   "outputs": [],
   "source": [
    "#新增一列\n",
    "df['C']=None\n",
    "\n",
    "#新增一行记录\n",
    "df.loc[5]=[6,6,0]\n",
    "\n",
    "df[['A','B','C']].to_excel('test3.xlsx',sheet_name='sheetOne',index=False,header=True)"
   ]
  },
  {
   "cell_type": "code",
   "execution_count": 42,
   "metadata": {},
   "outputs": [],
   "source": [
    "pd.DataFrame(df).to_excel('test4.xlsx',sheet_name='sheetOne',index=False,header=True)"
   ]
  },
  {
   "cell_type": "code",
   "execution_count": 33,
   "metadata": {},
   "outputs": [
    {
     "output_type": "error",
     "ename": "NameError",
     "evalue": "name 'df' is not defined",
     "traceback": [
      "\u001b[0;31m---------------------------------------------------------------------------\u001b[0m",
      "\u001b[0;31mNameError\u001b[0m                                 Traceback (most recent call last)",
      "\u001b[0;32m<ipython-input-33-00cf07b74dcd>\u001b[0m in \u001b[0;36m<module>\u001b[0;34m\u001b[0m\n\u001b[0;32m----> 1\u001b[0;31m \u001b[0mdf\u001b[0m\u001b[0;34m\u001b[0m\u001b[0;34m\u001b[0m\u001b[0m\n\u001b[0m",
      "\u001b[0;31mNameError\u001b[0m: name 'df' is not defined"
     ]
    }
   ],
   "source": [
    "df"
   ]
  },
  {
   "cell_type": "code",
   "execution_count": 116,
   "metadata": {},
   "outputs": [],
   "source": [
    "#xlrd 和 xlwt支持2003及之前的excel版本比较好\n",
    "#openpyxl 支持较新的版本，所以这里使用openpyxl\n",
    "# https://geek-docs.com/python/python-tutorial/python-openpyxl.html#Openpyxl \n",
    "from openpyxl.reader.excel import load_workbook\n",
    "import openpyxl.worksheet\n",
    "from openpyxl import Workbook\n",
    "import time\n",
    "#读取excel中第一张sheet\n",
    "def read_excel(url):\n",
    "    wb=load_workbook(url)\n",
    "    \n",
    "    print(\"excel中表名列表：\",wb.get_sheet_names())\n",
    "    ws = wb.get_sheet_by_name(wb.get_sheet_names()[0])\n",
    "    print(\"打开第一张表，表名：\",ws.title)\n",
    "    print(\"获取最大行：\", str(ws.max_row))\n",
    "    print(\"获取最小行：\", str(ws.min_row))\n",
    "    print(\"获取第1行第1列：\", str(ws.cell(1,1).value))\n",
    "    print(\"获取第1行第1列：\", str(ws['A1'].value))\n",
    "    print(\"获取第1行第2列：\", str(ws.cell(1,2).value))\n",
    "    print(\"获取第2行第1列：\", str(ws.cell(2,1).value))\n",
    "    \n",
    "    return ws\n",
    "    \n",
    "\n",
    "\n",
    "    \n",
    "\n",
    "def readAllFromSheet(ws: openpyxl.worksheet.worksheet.Worksheet):\n",
    "    matrix = []\n",
    "    cols = ws.max_column - ws.min_column\n",
    "    rowIndex  = 1\n",
    "    #迭代所有行 所有列的数据\n",
    "    #for rowValue in ws.rows:\n",
    "    for rowValue in ws.iter_rows(min_row=1,min_col=1,max_col=3):\n",
    "        print(\"第%d行：\"%rowIndex)\n",
    "        values = []\n",
    "        for cell in rowValue:\n",
    "            values.append(cell.value)\n",
    "        print(values)\n",
    "        rowIndex += 1\n",
    "        matrix.append(values)\n",
    "\n",
    "    return matrix\n",
    "\n",
    "def readMultiCellsFromSheet(ws: openpyxl.worksheet.worksheet.Worksheet):\n",
    "    cells = ws['A1':'C6']\n",
    "    for c1,c2,c3 in cells:\n",
    "        print(\"{} {} {}\".format(c1.value,c2.value,c3.value))\n",
    "\n",
    "\n",
    "\n",
    "        \n",
    "def displayMatrix(matrix):\n",
    "    rowNum = len(matrix)\n",
    "    colNum = len(matrix[0])\n",
    "    print(\" {} 行, {} 列\".format(rowNum,colNum))\n",
    "    for rowIndex in range(rowNum):\n",
    "        print(matrix[rowIndex])\n",
    "\n",
    "#创建excel\n",
    "def createXlsx():\n",
    "    wb = Workbook()\n",
    "    sheet = wb.active  # 返回可用的sheet\n",
    "    #两种写入方式\n",
    "    sheet['A1'] = 'A1'\n",
    "    sheet.cell(2,1).value='A2'\n",
    "    sheet['B1'] = 'B1'\n",
    "    now = time.strftime(\"%x\")\n",
    "    sheet['C1'] = now\n",
    "    #最后添加一行\n",
    "    sheet.append(('AX','BX','CX'))\n",
    "    #保存\n",
    "    wb.save(\"test5.xlsx\")\n",
    "\n",
    "#创建sheet\n",
    "def createSheet():\n",
    "    wb = load_workbook(\"test5.xlsx\")\n",
    "    wb.create_sheet('Sheet2',1)\n",
    "    ws = wb.get_sheet_by_name('Sheet2')\n",
    "    print(\"当前sheet名：\",ws.title)\n",
    "    print(\"表名：\",str(wb.get_sheet_names()))\n",
    "    wb.remove_sheet(ws)\n",
    "    wb.save(\"test5.xlsx\")\n",
    "\n",
    "\n",
    "\n",
    "\n",
    "\n",
    "\n"
   ]
  },
  {
   "cell_type": "code",
   "execution_count": 117,
   "metadata": {
    "tags": []
   },
   "outputs": [
    {
     "output_type": "stream",
     "name": "stdout",
     "text": "excel中表名列表： ['sheetOne']\n打开第一张表，表名： sheetOne\n获取最大行： 6\n获取最小行： 1\n获取第1行第1列： A\n获取第1行第1列： A\n获取第1行第2列： B\n获取第2行第1列： One\n第1行：\n['A', 'B', 'C']\n第2行：\n['One', 1, None]\n第3行：\n[2, 2, None]\n第4行：\n[3, 3, None]\n第5行：\n[4, 4, None]\n第6行：\n[5, 5, None]\n 6 行, 3 列\n['A', 'B', 'C']\n['One', 1, None]\n[2, 2, None]\n[3, 3, None]\n[4, 4, None]\n[5, 5, None]\nA B C\nOne 1 None\n2 2 None\n3 3 None\n4 4 None\n5 5 None\n当前sheet名： Sheet2\n表名： ['Sheet', 'Sheet2']\n"
    }
   ],
   "source": [
    "ws=read_excel('./test4.xlsx')\n",
    "excelMatrix1 = readAllFromSheet(ws)\n",
    "displayMatrix(excelMatrix1)\n",
    "readMultiCellsFromSheet(ws)\n",
    "df_excelMatrix1:pd.DataFrame = pd.read_excel('./test4.xlsx',sheet_name='sheetOne')\n",
    "\n",
    "createXlsx()\n",
    "df_excelMatrix1\n",
    "createSheet()\n"
   ]
  },
  {
   "cell_type": "code",
   "execution_count": null,
   "metadata": {},
   "outputs": [],
   "source": []
  }
 ],
 "metadata": {
  "kernelspec": {
   "display_name": "Python 3",
   "language": "python",
   "name": "python3"
  },
  "language_info": {
   "codemirror_mode": {
    "name": "ipython",
    "version": 3
   },
   "file_extension": ".py",
   "mimetype": "text/x-python",
   "name": "python",
   "nbconvert_exporter": "python",
   "pygments_lexer": "ipython3",
   "version": "3.7.4-final"
  }
 },
 "nbformat": 4,
 "nbformat_minor": 5
}