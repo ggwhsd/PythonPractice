{
 "cells": [
  {
   "cell_type": "code",
   "execution_count": 28,
   "metadata": {},
   "outputs": [
    {
     "name": "stdout",
     "output_type": "stream",
     "text": [
      "value of european call option 8.017\n"
     ]
    }
   ],
   "source": [
    "#第一课 BSM 公式即通过蒙特卡洛方式模拟估计欧式看涨期权价值。\n",
    "\n",
    "\n",
    "import numpy as np\n",
    "\n",
    "import matplotlib.pyplot as plt\n",
    "\n",
    "S0 = 100. #当前股票价格\n",
    "K = 105. #行权价\n",
    "T = 1.0 #一年时间\n",
    "r = 0.05 #固定无风险短期一年利率\n",
    "sigma = 0.2 #固定波动率 20%\n",
    "\n",
    "I = 100000  #为随机路径个数\n",
    "\n",
    "z = np.random.standard_normal(I)   #每天有10000个变化数值\n",
    "\n",
    "#根据BSM(1973)公式，简单计算T时间之后的股票价格ST，有I个价格\n",
    "ST = S0 * np.exp((r - 0.5 * sigma * sigma) * T + sigma * np.sqrt(T) * z)\n",
    "#计算到期期权的所有内在价值\n",
    "hT = np.maximum(ST-K, 0)\n",
    "#欧式期权的蒙特卡洛估算函数，求得期权当前的价值\n",
    "C0 = np.exp(-r * T) * np.sum(hT) / I\n",
    "\n",
    "print(\"value of european call option %5.3f\" %(C0))\n",
    "\n",
    "\n"
   ]
  },
  {
   "cell_type": "code",
   "execution_count": 47,
   "metadata": {},
   "outputs": [
    {
     "data": {
      "text/plain": [
       "[<matplotlib.lines.Line2D at 0x1638554a6d8>]"
      ]
     },
     "execution_count": 47,
     "metadata": {},
     "output_type": "execute_result"
    },
    {
     "data": {
      "image/png": "[encoded data removed]",
      "text/plain": [
       "<Figure size 432x288 with 1 Axes>"
      ]
     },
     "metadata": {
      "needs_background": "light"
     },
     "output_type": "display_data"
    }
   ],
   "source": [
    "#第二课 \n",
    "#计算某个标的证券的波动率\n",
    "import numpy as np\n",
    "import pandas as pd\n",
    "from datetime import datetime\n",
    "#step1 ： 加载数据\n",
    "df =pd.read_csv(\"./分析股票行情/601398_1d.csv\")\n",
    "df['date']= df['date'].apply(lambda x: datetime.strptime(x,'%Y-%m-%d'))\n",
    "#step2:  计算标的波动率，所谓波动率实际上是收益的标准差\n",
    "df['Log_Ret']=np.log(df['close'] / df['close'].shift(1))\n",
    "df['Volatility'] = df['Log_Ret'].rolling(252).std() * np.sqrt(252)\n",
    "\n",
    "#step3:  绘制数据\n",
    "%matplotlib inline\n",
    "#df[['close','Volatility']].plot()\n",
    "\n",
    "#plt.plot(df['date'],df['close'],'blue')\n",
    "plt.plot(df['date'],df['Volatility'],'r')\n",
    "\n"
   ]
  },
  {
   "cell_type": "code",
   "execution_count": 52,
   "metadata": {},
   "outputs": [
    {
     "name": "stdout",
     "output_type": "stream",
     "text": [
      "58.2 ms ± 935 µs per loop (mean ± std. dev. of 7 runs, 10 loops each)\n",
      "1.96 ms ± 9.63 µs per loop (mean ± std. dev. of 7 runs, 1000 loops each)\n"
     ]
    }
   ],
   "source": [
    "# 第三课\n",
    "#尽量使用库，性能高很多\n",
    "from math import *\n",
    "loops = 100000\n",
    "a = range(1, loops)\n",
    "def f(x):\n",
    "    return 3*log(x) + cos(x)**2\n",
    "%timeit r = [f(x) for x in a]\n",
    "\n",
    "\n",
    "import numpy as np\n",
    "a = np.arange(1, loops)\n",
    "%timeit r = 3 *np.log(a) + np.cos(a)**2\n",
    "\n",
    "\n",
    "\n"
   ]
  },
  {
   "cell_type": "code",
   "execution_count": null,
   "metadata": {},
   "outputs": [],
   "source": [
    "#第四课\n",
    "#隐含波动率\n",
    "#根据BSM(1973)定价公式"
   ]
  }
 ],
 "metadata": {
  "interpreter": {
   "hash": "b6b2d9837feac3bb55c911d056eaf6d362d0bbb679519357f00703861e4c3ed1"
  },
  "kernelspec": {
   "display_name": "Python 3.6.6 64-bit ('test_py3': conda)",
   "language": "python",
   "name": "python3"
  },
  "language_info": {
   "codemirror_mode": {
    "name": "ipython",
    "version": 3
   },
   "file_extension": ".py",
   "mimetype": "text/x-python",
   "name": "python",
   "nbconvert_exporter": "python",
   "pygments_lexer": "ipython3",
   "version": "3.6.6"
  },
  "orig_nbformat": 4
 },
 "nbformat": 4,
 "nbformat_minor": 2
}
