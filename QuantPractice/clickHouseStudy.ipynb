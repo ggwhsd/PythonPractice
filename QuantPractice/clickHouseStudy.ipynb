{
 "cells": [
  {
   "cell_type": "code",
   "execution_count": 11,
   "metadata": {},
   "outputs": [],
   "source": [
    "from clickhouse_driver import Client\n",
    "host='192.168.101.40' #服务器地址\n",
    "port =9000 #端口\n",
    "user='default' #用户名\n",
    "password='sywg@2702B' #密码\n",
    "database='sh_market' #数据库\n",
    "send_receive_timeout = 5 #超时时间\n",
    "client = Client(host=host, port=port, user=user, password=password,database=database, send_receive_timeout=send_receive_timeout)"
   ]
  },
  {
   "cell_type": "code",
   "execution_count": 12,
   "metadata": {},
   "outputs": [
    {
     "name": "stdout",
     "output_type": "stream",
     "text": [
      "[]\n"
     ]
    }
   ],
   "source": [
    "sql = \"\"\"CREATE TABLE emp_mergetree (\n",
    "  emp_id UInt16 COMMENT '员工id',\n",
    "  name String COMMENT '员工姓名',\n",
    "  work_place String COMMENT '工作地点',\n",
    "  age UInt8 COMMENT '员工年龄',\n",
    "  depart String COMMENT '部门',\n",
    "  salary Decimal32(2) COMMENT '工资'\n",
    "  )ENGINE=MergeTree()\n",
    "  ORDER BY emp_id\n",
    "  PARTITION BY work_place\n",
    "  ;\"\"\"\n",
    "ans = client.execute(sql)\n",
    "print(ans)"
   ]
  },
  {
   "cell_type": "code",
   "execution_count": 13,
   "metadata": {},
   "outputs": [
    {
     "name": "stdout",
     "output_type": "stream",
     "text": [
      "[]\n"
     ]
    }
   ],
   "source": [
    "sql = \"\"\"INSERT INTO emp_mergetree \n",
    "VALUES (1,'tom','上海',25,'技术部',20000),(2,'jack','上海',26,'人事部',10000);\n",
    "INSERT INTO emp_mergetree \n",
    "VALUES (3,'bob','北京',33,'财务部',50000),(4,'tony','杭州',28,'销售事部',50000); \n",
    "\"\"\"\n",
    "ans = client.execute(sql)\n",
    "print(ans)"
   ]
  },
  {
   "cell_type": "code",
   "execution_count": 29,
   "metadata": {},
   "outputs": [
    {
     "name": "stdout",
     "output_type": "stream",
     "text": [
      "[(1, 'tom', '上海', 25, '技术部', Decimal('20000')), (2, 'jack', '上海', 26, '人事部', Decimal('10000')), (5, 'robin', '北京', 35, '财务部', Decimal('50000')), (6, 'lilei', '北京', 38, '销售事部', Decimal('50000')), (5, 'robin', '北京', 35, '财务部', Decimal('50000')), (6, 'lilei', '北京', 38, '销售事部', Decimal('50000'))]\n",
      "20000\n"
     ]
    }
   ],
   "source": [
    "sql = \"select * from emp_mergetree;\"\n",
    "\n",
    "ans = client.execute(sql)\n",
    "print(ans)\n",
    "print(ans[0][5])\n",
    "\n"
   ]
  }
 ],
 "metadata": {
  "interpreter": {
   "hash": "b6b2d9837feac3bb55c911d056eaf6d362d0bbb679519357f00703861e4c3ed1"
  },
  "kernelspec": {
   "display_name": "Python 3.6.6 64-bit ('test_py3': conda)",
   "language": "python",
   "name": "python3"
  },
  "language_info": {
   "codemirror_mode": {
    "name": "ipython",
    "version": 3
   },
   "file_extension": ".py",
   "mimetype": "text/x-python",
   "name": "python",
   "nbconvert_exporter": "python",
   "pygments_lexer": "ipython3",
   "version": "3.6.6"
  },
  "orig_nbformat": 4
 },
 "nbformat": 4,
 "nbformat_minor": 2
}
